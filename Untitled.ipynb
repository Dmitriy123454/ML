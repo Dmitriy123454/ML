{
 "cells": [
  {
   "cell_type": "code",
   "execution_count": 1,
   "id": "37e303b2-eccf-495e-8744-b532ad4e91c9",
   "metadata": {},
   "outputs": [
    {
     "name": "stdout",
     "output_type": "stream",
     "text": [
      "Нет файла: data/processed/clusters/labels_pixels_kmeans.npy, пропускаю метод kmeans\n",
      "Нет файла: data/processed/clusters/labels_pixels_gmm.npy, пропускаю метод gmm\n",
      "Нет файла: data/processed/clusters/labels_pixels_hdbscan.npy, пропускаю метод hdbscan\n",
      "Нет файла: data/processed/clusters/labels_pixels_minibatch_kmeans.npy, пропускаю метод minibatch_kmeans\n",
      "Нет файла: data/processed/clusters/labels_pixels_hierarchical.npy, пропускаю метод hierarchical\n",
      "Нет файла: data/processed/clusters/labels_pixels_spectral.npy, пропускаю метод spectral\n"
     ]
    }
   ],
   "source": [
    "import numpy as np\n",
    "import cv2\n",
    "import os\n",
    "from skimage.measure import label as skimage_label, regionprops\n",
    "from skimage.color import label2rgb\n",
    "import matplotlib.pyplot as plt\n",
    "\n",
    "def segment_by_cluster_label_and_connectivity(labels_1d, w, h, min_size=200):\n",
    "    seg_mask = np.zeros((h, w), dtype=int)\n",
    "    labels_2d = labels_1d.reshape(h, w)\n",
    "    seg_id = 1\n",
    "    for cluster_id in np.unique(labels_2d):\n",
    "        if cluster_id == -1:\n",
    "            continue\n",
    "        mask = (labels_2d == cluster_id)\n",
    "        labeled = skimage_label(mask, connectivity=1)\n",
    "        for region in regionprops(labeled):\n",
    "            if region.area >= min_size:\n",
    "                for coords in region.coords:\n",
    "                    seg_mask[coords[0], coords[1]] = seg_id\n",
    "                seg_id += 1\n",
    "    return seg_mask\n",
    "\n",
    "methods = ['kmeans', 'gmm', 'hdbscan', 'minibatch_kmeans', 'hierarchical', 'spectral']\n",
    "\n",
    "w, h = 640, 480\n",
    "frame_dir = 'data/processed'\n",
    "frame_files = sorted([f for f in os.listdir(frame_dir) if f.lower().endswith('.jpg')])\n",
    "frame_indices = [0, 1, 2, 3, 4, 5]\n",
    "for method in methods:\n",
    "    labels_path = f'data/processed/clusters/labels_pixels_{method}.npy'\n",
    "    if not os.path.exists(labels_path):\n",
    "        print(f'Нет файла: {labels_path}, пропускаю метод {method}')\n",
    "        continue\n",
    "    labels = np.load(labels_path)\n",
    "    pixels_per_frame = w * h\n",
    "    print(f'\\nМетод: {method}')\n",
    "    plt.figure(figsize=(12, 12))\n",
    "    for i, frame_idx in enumerate(frame_indices):\n",
    "        if frame_idx >= len(frame_files):\n",
    "            print(f'Нет кадра с индексом {frame_idx}, пропускаю.')\n",
    "            continue\n",
    "        frame_labels = labels[frame_idx*pixels_per_frame : (frame_idx+1)*pixels_per_frame]\n",
    "        frame = cv2.imread(os.path.join(frame_dir, frame_files[frame_idx]))\n",
    "        frame = cv2.cvtColor(frame, cv2.COLOR_BGR2RGB)\n",
    "        seg_mask = segment_by_cluster_label_and_connectivity(frame_labels, w, h, min_size=200)\n",
    "        if frame.shape[:2] != seg_mask.shape:\n",
    "            frame = cv2.resize(frame, (seg_mask.shape[1], seg_mask.shape[0]))\n",
    "        image = label2rgb(seg_mask, image=frame, bg_label=0, alpha=0.3)\n",
    "        plt.subplot(len(frame_indices), 2, i*2+1)\n",
    "        plt.imshow(frame)\n",
    "        plt.title(f\"Кадр {frame_idx+1} — Оригинал\")\n",
    "        plt.axis('off')\n",
    "        plt.subplot(len(frame_indices), 2, i*2+2)\n",
    "        plt.imshow(image)\n",
    "        plt.title(f\"Кадр {frame_idx+1} — Сегментация\")\n",
    "        plt.axis('off')\n",
    "    plt.suptitle(f'Метод: {method}', fontsize=18)\n",
    "    plt.tight_layout(rect=[0, 0.03, 1, 0.95])\n",
    "    plt.show()"
   ]
  },
  {
   "cell_type": "code",
   "execution_count": null,
   "id": "231f1a8d-3294-408a-8701-c99cae56b1e2",
   "metadata": {},
   "outputs": [],
   "source": []
  }
 ],
 "metadata": {
  "kernelspec": {
   "display_name": "Python 3 (ipykernel)",
   "language": "python",
   "name": "python3"
  },
  "language_info": {
   "codemirror_mode": {
    "name": "ipython",
    "version": 3
   },
   "file_extension": ".py",
   "mimetype": "text/x-python",
   "name": "python",
   "nbconvert_exporter": "python",
   "pygments_lexer": "ipython3",
   "version": "3.12.0"
  }
 },
 "nbformat": 4,
 "nbformat_minor": 5
}
